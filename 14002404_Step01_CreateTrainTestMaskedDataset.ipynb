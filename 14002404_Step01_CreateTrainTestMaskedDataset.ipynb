{
 "cells": [
  {
   "cell_type": "code",
   "execution_count": 1,
   "id": "41bf563e",
   "metadata": {},
   "outputs": [],
   "source": [
    "import os, glob, cv2, dlib\n",
    "import numpy as np\n",
    "from imutils import face_utils\n",
    "\n",
    "from sklearn.model_selection import train_test_split\n",
    "\n",
    "from progressbar import ProgressBar"
   ]
  },
  {
   "cell_type": "code",
   "execution_count": 2,
   "id": "50183af6",
   "metadata": {},
   "outputs": [],
   "source": [
    "data_dir = 'dataset/KomNet/original_sosmed/'\n",
    "output_dir = 'dataset/KomNet_masked2/original_sosmed/'\n",
    "\n",
    "if not os.path.exists(output_dir):\n",
    "    os.makedirs(output_dir)"
   ]
  },
  {
   "cell_type": "code",
   "execution_count": 3,
   "id": "f3425067",
   "metadata": {},
   "outputs": [
    {
     "name": "stdout",
     "output_type": "stream",
     "text": [
      "\n",
      "##### PROSES LISTING DATASET #####\n",
      "-------------------------------------\n",
      "Listing data pada label 10_sosmed_i made parasya maharta telah selesai. Jumlah data : 24\n",
      "Listing data pada label 11_sosmed_norasela telah selesai. Jumlah data : 24\n",
      "Listing data pada label 12_sosmed_gede agus andika pratama telah selesai. Jumlah data : 24\n",
      "Listing data pada label 13_sosmed_narendra brillian telah selesai. Jumlah data : 24\n",
      "Listing data pada label 14_sosmed_gusti ayu nyoman sita wahana murti telah selesai. Jumlah data : 24\n",
      "Listing data pada label 15_sosmed_richard putra rosul telah selesai. Jumlah data : 24\n",
      "Listing data pada label 16_sosmed_ni kadek sitayanti telah selesai. Jumlah data : 24\n",
      "Listing data pada label 17_sosmed_i komang agus merta dana telah selesai. Jumlah data : 24\n",
      "Listing data pada label 18_sosmed_i kadek yogi ardana telah selesai. Jumlah data : 24\n",
      "Listing data pada label 19_sosmed_i gede satya bramananda telah selesai. Jumlah data : 24\n",
      "Listing data pada label 1_sosmed_i made dwiki satria wibawa telah selesai. Jumlah data : 24\n",
      "Listing data pada label 20_sosmed_i putu yudha pratama telah selesai. Jumlah data : 24\n",
      "Listing data pada label 21_sosmed_evando hot simon sinaga telah selesai. Jumlah data : 24\n",
      "Listing data pada label 22_sosmed_juita anggreni mooy telah selesai. Jumlah data : 24\n",
      "Listing data pada label 23_sosmed_ade rizky wiguna telah selesai. Jumlah data : 24\n",
      "Listing data pada label 24_sosmed_i made suta diatmika telah selesai. Jumlah data : 24\n",
      "Listing data pada label 25_sosmed_i komang wiratama telah selesai. Jumlah data : 24\n",
      "Listing data pada label 26_sosmed_riyan telah selesai. Jumlah data : 24\n",
      "Listing data pada label 27_sosmed_Made Gede Arya Andika Dharma telah selesai. Jumlah data : 24\n",
      "Listing data pada label 2_sosmed_muhammad ilham maulana telah selesai. Jumlah data : 23\n",
      "Listing data pada label 3_sosmed_gede ananda adi apriliawan telah selesai. Jumlah data : 24\n",
      "Listing data pada label 4_sosmed_putu irianti putri astari telah selesai. Jumlah data : 24\n",
      "Listing data pada label 5_sosmed_gusti ngurah bagus amarry krisna telah selesai. Jumlah data : 24\n",
      "Listing data pada label 6_sosmed_i kadek dwi gita purnama pramudya telah selesai. Jumlah data : 24\n",
      "Listing data pada label 7_sosmed_putu kerta adi pande telah selesai. Jumlah data : 22\n",
      "Listing data pada label 8_sosmed_i putu kaesa wahyu prana aditya telah selesai. Jumlah data : 24\n",
      "Listing data pada label 9_sosmed_i putu augi oka adiana telah selesai. Jumlah data : 24\n",
      "Listing data pada label sosmed-1-Arya Astawa telah selesai. Jumlah data : 24\n",
      "Listing data pada label sosmed-10-I Nyoman Eddy Indrayana telah selesai. Jumlah data : 24\n",
      "Listing data pada label sosmed-12-I Wayan Candra winetra telah selesai. Jumlah data : 24\n",
      "Listing data pada label sosmed-13-Suasnawa telah selesai. Jumlah data : 24\n",
      "Listing data pada label sosmed-14- Ida Bagus Putra Manuaba telah selesai. Jumlah data : 24\n",
      "Listing data pada label sosmed-15-Indah Ciptayani telah selesai. Jumlah data : 24\n",
      "Listing data pada label sosmed-16-Indah Triana telah selesai. Jumlah data : 24\n",
      "Listing data pada label sosmed-17-Juni Arini telah selesai. Jumlah data : 24\n",
      "Listing data pada label sosmed-18-Ni GAP Harry Saptarini telah selesai. Jumlah data : 24\n",
      "Listing data pada label sosmed-19-Oka Sudiadnyani telah selesai. Jumlah data : 24\n",
      "Listing data pada label sosmed-2-Ayu Sukerti telah selesai. Jumlah data : 24\n",
      "Listing data pada label sosmed-20-Putu Gde Sukarata telah selesai. Jumlah data : 24\n",
      "Listing data pada label sosmed-21-Putu Manik Prihatini telah selesai. Jumlah data : 24\n",
      "Listing data pada label sosmed-22-Sri Andriati telah selesai. Jumlah data : 24\n",
      "Listing data pada label sosmed-23-Ketut Suwintana telah selesai. Jumlah data : 24\n",
      "Listing data pada label sosmed-24-Wisswani telah selesai. Jumlah data : 24\n",
      "Listing data pada label sosmed-3-Dessy telah selesai. Jumlah data : 24\n",
      "Listing data pada label sosmed-4-Elina telah selesai. Jumlah data : 24\n",
      "Listing data pada label sosmed-5-Fajar Pranadi telah selesai. Jumlah data : 24\n",
      "Listing data pada label sosmed-6-Caturbawa telah selesai. Jumlah data : 24\n",
      "Listing data pada label sosmed-7-I Ketut Gede Sudiarta telah selesai. Jumlah data : 24\n",
      "Listing data pada label sosmed-8-I Made Ari Dwi Suta Atmaja telah selesai. Jumlah data : 25\n",
      "Listing data pada label sosmed-9-Dion telah selesai. Jumlah data : 24\n"
     ]
    }
   ],
   "source": [
    "### Proses Listing Dataset\n",
    "print('\\n##### PROSES LISTING DATASET #####')\n",
    "print('-------------------------------------')\n",
    "\n",
    "labels = os.listdir(data_dir)\n",
    "labels.sort()\n",
    "\n",
    "X = list()\n",
    "y = list()\n",
    "\n",
    "for label in labels:\n",
    "    dir=os.path.join(data_dir,label)\n",
    "    n = 0\n",
    "    for file in glob.glob(dir + \"/*\"):\n",
    "        X.append(file)\n",
    "        y.append(label)\n",
    "        n+=1\n",
    "    print('Listing data pada label',label,'telah selesai. Jumlah data :', str(n))\n",
    "    \n",
    "X = np.asarray(X)\n",
    "y = np.asarray(y)"
   ]
  },
  {
   "cell_type": "code",
   "execution_count": 4,
   "id": "aa2f761b",
   "metadata": {},
   "outputs": [
    {
     "name": "stdout",
     "output_type": "stream",
     "text": [
      "(958,) (958,) (240,) (240,)\n"
     ]
    }
   ],
   "source": [
    "# Train test split\n",
    "\n",
    "X_train, X_test, y_train, y_test = train_test_split(X, y, test_size=0.2, random_state=1, stratify=y)\n",
    "\n",
    "print(X_train.shape, y_train.shape, X_test.shape, y_test.shape)"
   ]
  },
  {
   "cell_type": "code",
   "execution_count": 5,
   "id": "e4dce4d5",
   "metadata": {},
   "outputs": [],
   "source": [
    "# Fungsi deteksi 68 facial points dengan DLIB\n",
    "# ============================================\n",
    "\n",
    "def facial_points(image):\n",
    "    gray = image\n",
    "    if(len(image.shape)==3):\n",
    "        gray = cv2.cvtColor(image, cv2.COLOR_RGB2GRAY)\n",
    "    \n",
    "    gray = cv2.equalizeHist(gray)\n",
    "    \n",
    "    detector = dlib.get_frontal_face_detector() \n",
    "    predictor = dlib.shape_predictor(\"model/shape_predictor_68_face_landmarks.dat\") \n",
    "    rects = detector(gray, 1) \n",
    "    \n",
    "    shape = np.array([0])\n",
    "    \n",
    "    for (i, rect) in enumerate(rects):  \n",
    "        shape = predictor(gray, rect) \n",
    "        shape = face_utils.shape_to_np(shape) \n",
    "\n",
    "    return shape"
   ]
  },
  {
   "cell_type": "code",
   "execution_count": 6,
   "id": "e5f63b50",
   "metadata": {},
   "outputs": [],
   "source": [
    "def masked_face(image):\n",
    "    shape = facial_points(image)\n",
    "    \n",
    "    # Buat citra wajah dengan facial points\n",
    "    img_fp = image.copy()\n",
    "    for p in shape:\n",
    "        img_fp = cv2.circle(img_fp, p, 5, (0, 255, 0) , -1)\n",
    "    \n",
    "    # Buat list facial points untuk augmentasi masker\n",
    "    pts = []\n",
    "    for i in range(15):\n",
    "        pts.append(shape[i+1])\n",
    "    pts.append(shape[28])\n",
    "    \n",
    "    pts = np.array(pts)\n",
    "    pts = pts.reshape((-1, 1, 2))  \n",
    "\n",
    "    image = cv2.fillPoly(image, [pts], (255, 255, 255))\n",
    "    \n",
    "    return image, img_fp"
   ]
  },
  {
   "cell_type": "code",
   "execution_count": 7,
   "id": "373b2140",
   "metadata": {},
   "outputs": [],
   "source": [
    "from datetime import datetime\n",
    "\n",
    "logfile = output_dir + 'masked_log.txt'\n",
    "\n",
    "if not os.path.exists(logfile):\n",
    "    f = open(logfile, \"w\")\n",
    "    f.write(str(datetime.now()) + '\\n' + '===========================\\n\\n')\n",
    "    f.close()"
   ]
  },
  {
   "cell_type": "code",
   "execution_count": 8,
   "id": "3f918921",
   "metadata": {},
   "outputs": [
    {
     "name": "stderr",
     "output_type": "stream",
     "text": [
      "100% |########################################################################|\n"
     ]
    }
   ],
   "source": [
    "pbar = ProgressBar()\n",
    "\n",
    "test_dir = output_dir + 'test/'\n",
    "n=0\n",
    "for file in pbar(X_test):\n",
    "    label = y_test[n]\n",
    "    d = 0\n",
    "    \n",
    "    d0, d1 = label.rfind('_'), label.rfind('-')\n",
    "\n",
    "    if d0>d1:\n",
    "        d = d0+1\n",
    "    else:\n",
    "        d = d1+1\n",
    "    \n",
    "    label = label[d:]\n",
    "    label = label.lower()\n",
    "    label = label.strip()\n",
    "    \n",
    "    if not os.path.exists(test_dir + label):\n",
    "        os.makedirs(test_dir + label)\n",
    "    filename = os.path.basename(file)\n",
    "    output = test_dir + label + '/' + filename + '.jpg'\n",
    "    img = cv2.imread(file)\n",
    "    try:\n",
    "        img = masked_face(img)[0]\n",
    "        cv2.imwrite(output, img)\n",
    "        log = 'Done' + '|' + label + '|' + filename + '|' + output + '\\n'\n",
    "    except:\n",
    "        log = 'Error' + '|' + label + '|' + filename + '|' + output + '\\n'\n",
    "\n",
    "    f = open(logfile, \"a\")\n",
    "    f.write(log)\n",
    "    f.close()\n",
    "    n+=1"
   ]
  },
  {
   "cell_type": "code",
   "execution_count": 9,
   "id": "efd76bc4",
   "metadata": {},
   "outputs": [
    {
     "name": "stderr",
     "output_type": "stream",
     "text": [
      "100% |########################################################################|\n"
     ]
    }
   ],
   "source": [
    "pbar = ProgressBar()\n",
    "\n",
    "train_dir = output_dir + 'train/'\n",
    "n=0\n",
    "for file in pbar(X_train):\n",
    "    label = y_train[n]\n",
    "    d = 0\n",
    "    \n",
    "    d0, d1 = label.rfind('_'), label.rfind('-')\n",
    "\n",
    "    if d0>d1:\n",
    "        d = d0+1\n",
    "    else:\n",
    "        d = d1+1\n",
    "    \n",
    "    label = label[d:]\n",
    "    label = label.lower()\n",
    "    label = label.strip()\n",
    "    \n",
    "    if not os.path.exists(train_dir + label):\n",
    "        os.makedirs(train_dir + label)\n",
    "    filename = os.path.basename(file)\n",
    "    output = train_dir + label + '/' + filename + '.jpg'\n",
    "    img = cv2.imread(file)\n",
    "    cv2.imwrite(output, img)\n",
    "\n",
    "    f = open(logfile, \"a\")\n",
    "    f.write(log)\n",
    "    f.close()\n",
    "    n+=1"
   ]
  },
  {
   "cell_type": "code",
   "execution_count": null,
   "id": "f470d099",
   "metadata": {},
   "outputs": [],
   "source": []
  }
 ],
 "metadata": {
  "kernelspec": {
   "display_name": "Python 3",
   "language": "python",
   "name": "python3"
  },
  "language_info": {
   "codemirror_mode": {
    "name": "ipython",
    "version": 3
   },
   "file_extension": ".py",
   "mimetype": "text/x-python",
   "name": "python",
   "nbconvert_exporter": "python",
   "pygments_lexer": "ipython3",
   "version": "3.7.10"
  }
 },
 "nbformat": 4,
 "nbformat_minor": 5
}
